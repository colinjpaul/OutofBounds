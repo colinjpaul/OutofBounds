{
 "cells": [
  {
   "cell_type": "heading",
   "metadata": {
    "collapsed": true
   },
   "level": 1,
   "source": [
    "\n",
    "Read and Wrtie to SQL lite DB manipulating data using Pandas"
   ]
  },
  {
   "cell_type": "code",
   "execution_count": 13,
   "metadata": {
    "collapsed": true
   },
   "outputs": [],
   "source": [
    "import sqlite3\n",
    "import os\n",
    "import pandas as pd"
   ]
  },
  {
   "cell_type": "heading",
   "metadata": {},
   "level": 1,
   "source": [
    "Set path fo location of csv file"
   ]
  },
  {
   "cell_type": "code",
   "execution_count": 15,
   "metadata": {
    "collapsed": true
   },
   "outputs": [],
   "source": [
    "home = r\"c:\\Users\\cjadmin\\Documents\\GitHub\\OutofBounds\\Data\"\n",
    "abs_file_path = os.path.join(home, \"Scorecard.csv\")\n"
   ]
  },
  {
   "cell_type": "heading",
   "metadata": {},
   "level": 1,
   "source": [
    "Create Pandas Dataframe based on CSV file content and show sample"
   ]
  },
  {
   "cell_type": "code",
   "execution_count": 16,
   "metadata": {
    "collapsed": false
   },
   "outputs": [
    {
     "output_type": "execute_result",
     "data": {
      "text/plain": "   Hole,Par,Score\n16         17,4,7\n4           5,3,4\n5           6,5,6\n2           3,4,4\n14         15,3,5",
      "text/html": "<div>\n<style scoped>\n    .dataframe tbody tr th:only-of-type {\n        vertical-align: middle;\n    }\n\n    .dataframe tbody tr th {\n        vertical-align: top;\n    }\n\n    .dataframe thead th {\n        text-align: right;\n    }\n</style>\n<table border=\"1\" class=\"dataframe\">\n  <thead>\n    <tr style=\"text-align: right;\">\n      <th></th>\n      <th>Hole,Par,Score</th>\n    </tr>\n  </thead>\n  <tbody>\n    <tr>\n      <th>16</th>\n      <td>17,4,7</td>\n    </tr>\n    <tr>\n      <th>4</th>\n      <td>5,3,4</td>\n    </tr>\n    <tr>\n      <th>5</th>\n      <td>6,5,6</td>\n    </tr>\n    <tr>\n      <th>2</th>\n      <td>3,4,4</td>\n    </tr>\n    <tr>\n      <th>14</th>\n      <td>15,3,5</td>\n    </tr>\n  </tbody>\n</table>\n</div>"
     },
     "metadata": {},
     "execution_count": 16
    }
   ],
   "source": [
    "df = pd.read_csv(abs_file_path)\n",
    "df.sample(5)"
   ]
  },
  {
   "cell_type": "code",
   "execution_count": 17,
   "metadata": {},
   "outputs": [
    {
     "output_type": "stream",
     "name": "stdout",
     "text": "new changes from 3rd september\n"
    }
   ],
   "source": [
    "db = sqlite3.connect(\"c:/users/cjadmin/Documents/GitHub/OutOfBounds/Data/scorecard.sqlite\")\n",
    "cur = db.cursor()\n",
    "cur.execute('''CREATE TABLE IF NOT EXISTS scores(Hole INT UNIQUE, Par INT, Score INT)''')\n",
    "\n",
    "print(\"new changes from 3rd september\")"
   ]
  },
  {
   "cell_type": "markdown",
   "metadata": {},
   "source": [
    ""
   ]
  }
 ],
 "metadata": {
  "kernelspec": {
   "display_name": "Python 3.8.1 64-bit ('golf-venv': venv)",
   "language": "python",
   "name": "python38164bitgolfvenvvenv5562b24bd9a7469984107d492402ff82"
  },
  "language_info": {
   "codemirror_mode": {
    "name": "ipython",
    "version": 2
   },
   "file_extension": ".py",
   "mimetype": "text/x-python",
   "name": "python",
   "nbconvert_exporter": "python",
   "pygments_lexer": "ipython2",
   "version": "3.8.1-final"
  }
 },
 "nbformat": 4,
 "nbformat_minor": 0
}